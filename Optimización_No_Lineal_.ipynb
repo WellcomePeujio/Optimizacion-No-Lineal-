{
  "nbformat": 4,
  "nbformat_minor": 0,
  "metadata": {
    "colab": {
      "private_outputs": true,
      "provenance": [],
      "authorship_tag": "ABX9TyO7nvfO0phVxxNXzMYeuy44",
      "include_colab_link": true
    },
    "kernelspec": {
      "name": "python3",
      "display_name": "Python 3"
    },
    "language_info": {
      "name": "python"
    }
  },
  "cells": [
    {
      "cell_type": "markdown",
      "metadata": {
        "id": "view-in-github",
        "colab_type": "text"
      },
      "source": [
        "<a href=\"https://colab.research.google.com/github/WellcomePeujio/Optimizacion-No-Lineal-/blob/main/Optimizaci%C3%B3n_No_Lineal_.ipynb\" target=\"_parent\"><img src=\"https://colab.research.google.com/assets/colab-badge.svg\" alt=\"Open In Colab\"/></a>"
      ]
    },
    {
      "cell_type": "markdown",
      "source": [
        "# Optimización No Lineal para Producción\n",
        "\n",
        "\n",
        "Una empresa fabrica dos productos, \\( C \\) y \\( D \\). La función de beneficio de la empresa está dada por:\n",
        "\n",
        "$$\n",
        "B(x, y) = 50x + 60y - x^2 - y^2\n",
        "$$\n",
        "\n",
        "donde \\( x \\) y \\( y \\) son las cantidades producidas de \\( C \\) y \\( D \\) respectivamente.\n",
        "\n",
        "## Preguntas:\n",
        "\n",
        "1. **Encuentra las cantidades de \\( x \\) y \\( y \\) que maximicen el beneficio utilizando optimización no lineal.**\n",
        "\n",
        "2. **Implementa la solución en Python y analiza la sensibilidad de la solución ante cambios en los coeficientes de la función de beneficio.**"
      ],
      "metadata": {
        "id": "GUZO6Uc_qJB2"
      }
    },
    {
      "cell_type": "markdown",
      "source": [
        "# Resolución Matemática: Optimización No Lineal para Producción\n",
        "\n",
        "## Pregunta 1: Encontrar las cantidades de \\( x \\) y \\( y \\) que maximicen el beneficio\n",
        "\n",
        "### Función de Beneficio\n",
        "\n",
        "La función de beneficio de la empresa está dada por:\n",
        "\n",
        "$$\n",
        "B(x, y) = 50x + 60y - x^2 - y^2\n",
        "$$\n",
        "\n",
        "### Paso 1: Calcular las derivadas parciales\n",
        "\n",
        "Para maximizar el beneficio, debemos encontrar los puntos críticos de la función \\( B(x, y) \\). Esto se hace calculando las derivadas parciales de \\( B(x, y) \\) con respecto a \\( x \\) y \\( y \\) y luego igualándolas a cero.\n",
        "\n",
        "La derivada parcial con respecto a \\( x \\) es:\n",
        "\n",
        "$$\n",
        "\\frac{\\partial B}{\\partial x} = 50 - 2x\n",
        "$$\n",
        "\n",
        "La derivada parcial con respecto a \\( y \\) es:\n",
        "\n",
        "$$\n",
        "\\frac{\\partial B}{\\partial y} = 60 - 2y\n",
        "$$\n",
        "\n",
        "### Paso 2: Igualar las derivadas parciales a cero\n",
        "\n",
        "Para encontrar los puntos críticos, igualamos las derivadas parciales a cero:\n",
        "\n",
        "$$\n",
        "\\frac{\\partial B}{\\partial x} = 50 - 2x = 0\n",
        "$$\n",
        "\n",
        "$$\n",
        "\\frac{\\partial B}{\\partial y} = 60 - 2y = 0\n",
        "$$\n",
        "\n",
        "### Paso 3: Resolver el sistema de ecuaciones\n",
        "\n",
        "Resolvemos el sistema de ecuaciones para \\( x \\) y \\( y \\):\n",
        "\n",
        "Para \\( x \\):\n",
        "\n",
        "$$\n",
        "50 - 2x = 0 \\implies 2x = 50 \\implies x = \\frac{50}{2} = 25\n",
        "$$\n",
        "\n",
        "Para \\( y \\):\n",
        "\n",
        "$$\n",
        "60 - 2y = 0 \\implies 2y = 60 \\implies y = \\frac{60}{2} = 30\n",
        "$$\n",
        "\n",
        "### Solución\n",
        "\n",
        "Las cantidades que maximizan el beneficio son:\n",
        "\n",
        "$$\n",
        "x = 25 \\quad \\text{y} \\quad y = 30\n",
        "$$"
      ],
      "metadata": {
        "id": "mNJcHzYJq9F8"
      }
    },
    {
      "cell_type": "markdown",
      "source": [
        "2. **Implementa la solución en Python y analiza la sensibilidad de la solución ante cambios en los coeficientes de la función de beneficio.**"
      ],
      "metadata": {
        "id": "0jkIpacerqcv"
      }
    },
    {
      "cell_type": "code",
      "source": [
        "import numpy as np\n",
        "import matplotlib.pyplot as plt\n",
        "from scipy.optimize import minimize\n",
        "\n",
        "# Definir la función de beneficio\n",
        "def beneficio(vars):\n",
        "    x, y = vars\n",
        "    return -(50 * x + 60 * y - x**2 - y**2)  # Negativo para maximizar\n",
        "\n",
        "# Resolver el problema de optimización\n",
        "resultado = minimize(beneficio, [0, 0])\n",
        "\n",
        "# Obtener las cantidades óptimas de x y y\n",
        "x_opt, y_opt = resultado.x\n",
        "max_beneficio = -resultado.fun\n",
        "\n",
        "print(f\"Cantidad óptima de x: {x_opt:.2f}\")\n",
        "print(f\"Cantidad óptima de y: {y_opt:.2f}\")\n",
        "print(f\"Beneficio máximo: {max_beneficio:.2f}\")\n",
        "\n",
        "# Generar una gráfica de la función de beneficio\n",
        "x_vals = np.linspace(0, 50, 400)\n",
        "y_vals = np.linspace(0, 50, 400)\n",
        "X, Y = np.meshgrid(x_vals, y_vals)\n",
        "Z = 50 * X + 60 * Y - X**2 - Y**2\n",
        "\n",
        "plt.figure(figsize=(10, 6))\n",
        "contours = plt.contour(X, Y, Z, 50, cmap='viridis')\n",
        "plt.clabel(contours, inline=True, fontsize=8)\n",
        "plt.plot(x_opt, y_opt, 'ro', label=f'Máximo beneficio (x={x_opt:.2f}, y={y_opt:.2f})')\n",
        "plt.title('Evolución del Beneficio en Función de las Cantidades Producidas')\n",
        "plt.xlabel('Cantidad de C (x)')\n",
        "plt.ylabel('Cantidad de D (y)')\n",
        "plt.colorbar(contours)\n",
        "plt.legend()\n",
        "plt.grid(True)\n",
        "plt.show()"
      ],
      "metadata": {
        "id": "NBl9NYiXra1O"
      },
      "execution_count": null,
      "outputs": []
    },
    {
      "cell_type": "markdown",
      "source": [
        "## Análisis de sensibilidad"
      ],
      "metadata": {
        "id": "-AH_YWGlw096"
      }
    },
    {
      "cell_type": "code",
      "source": [
        "import numpy as np\n",
        "import matplotlib.pyplot as plt\n",
        "from scipy.optimize import minimize\n",
        "\n",
        "# Función de beneficio generalizada\n",
        "def beneficio(vars, a=50, b=60):\n",
        "    x, y = vars\n",
        "    return -(a * x + b * y - x**2 - y**2)  # Negativo para maximizar\n",
        "\n",
        "# Resolver el problema de optimización para los coeficientes originales\n",
        "resultado_original = minimize(beneficio, [0, 0])\n",
        "x_opt, y_opt = resultado_original.x\n",
        "max_beneficio = -resultado_original.fun\n",
        "\n",
        "print(f\"Coeficientes originales: a=50, b=60\")\n",
        "print(f\"Cantidad óptima de x: {x_opt:.2f}\")\n",
        "print(f\"Cantidad óptima de y: {y_opt:.2f}\")\n",
        "print(f\"Beneficio máximo: {max_beneficio:.2f}\")\n",
        "\n",
        "# Análisis de sensibilidad cambiando los coeficientes a y b\n",
        "a_values = [40, 50, 60]  # Cambiando el coeficiente de x\n",
        "b_values = [50, 60, 70]  # Cambiando el coeficiente de y\n",
        "\n",
        "sensibilidad_x = []\n",
        "sensibilidad_y = []\n",
        "beneficios = []\n",
        "\n",
        "for a in a_values:\n",
        "    for b in b_values:\n",
        "        resultado = minimize(beneficio, [0, 0], args=(a, b))\n",
        "        x_opt, y_opt = resultado.x\n",
        "        max_beneficio = -resultado.fun\n",
        "        sensibilidad_x.append(x_opt)\n",
        "        sensibilidad_y.append(y_opt)\n",
        "        beneficios.append(max_beneficio)\n",
        "        print(f\"\\nCoeficientes: a={a}, b={b}\")\n",
        "        print(f\"Cantidad óptima de x: {x_opt:.2f}\")\n",
        "        print(f\"Cantidad óptima de y: {y_opt:.2f}\")\n",
        "        print(f\"Beneficio máximo: {max_beneficio:.2f}\")\n",
        "\n",
        "# Gráfica del análisis de sensibilidad\n",
        "plt.figure(figsize=(10, 6))\n",
        "\n",
        "# Gráfica de los resultados de x\n",
        "plt.subplot(1, 2, 1)\n",
        "plt.plot(a_values, sensibilidad_x[:3], 'o-', label='b=50')\n",
        "plt.plot(a_values, sensibilidad_x[3:6], 'o-', label='b=60')\n",
        "plt.plot(a_values, sensibilidad_x[6:], 'o-', label='b=70')\n",
        "plt.xlabel('Coeficiente a (para x)')\n",
        "plt.ylabel('Cantidad óptima de x')\n",
        "plt.title('Sensibilidad de x a cambios en a y b')\n",
        "plt.legend()\n",
        "plt.grid(True)\n",
        "\n",
        "# Gráfica de los resultados de y\n",
        "plt.subplot(1, 2, 2)\n",
        "plt.plot(b_values, sensibilidad_y[::3], 'o-', label='a=40')\n",
        "plt.plot(b_values, sensibilidad_y[1::3], 'o-', label='a=50')\n",
        "plt.plot(b_values, sensibilidad_y[2::3], 'o-', label='a=60')\n",
        "plt.xlabel('Coeficiente b (para y)')\n",
        "plt.ylabel('Cantidad óptima de y')\n",
        "plt.title('Sensibilidad de y a cambios en a y b')\n",
        "plt.legend()\n",
        "plt.grid(True)\n",
        "\n",
        "plt.tight_layout()\n",
        "plt.show()"
      ],
      "metadata": {
        "id": "c9WAvv2qsWWU"
      },
      "execution_count": null,
      "outputs": []
    }
  ]
}